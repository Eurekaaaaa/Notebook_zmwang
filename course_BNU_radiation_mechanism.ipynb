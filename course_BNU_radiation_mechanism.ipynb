{
 "cells": [
  {
   "cell_type": "markdown",
   "metadata": {},
   "source": [
    "# 辐射机制"
   ]
  },
  {
   "cell_type": "markdown",
   "metadata": {},
   "source": [
    "- 埃格斯特朗 $1Å = 10^{10}m$"
   ]
  },
  {
   "cell_type": "markdown",
   "metadata": {},
   "source": [
    "## 辐射的产生\n",
    "\n",
    "### 外场作用\n",
    "- cyclotron radiation: irrelativistic electrons  \n",
    "- synchrotron radiation: relativistic electrons (basic process in radio astronomy)  \n",
    "- curvature radiation: particles along curved magnetic lines  \n",
    "\n",
    "### 碰撞过程\n",
    "- Bremsstrahlung radiation: charged particle collide under coulumb force.   \n",
    "- Compton scattering: relativistic electron collide with photon.   \n",
    "\n",
    "### Thermal & Non-thermal\n",
    "Thermal: radiates from surface. Internal energy of the item is constant. radiation is maintained by heating temperature. properties of radiation is only related with temperature, which is thermal movement of particles. \n",
    "\n",
    "Non-Thermal: radiation is excited by other process. \n",
    "\n",
    "GRB: accelerated electrons vs LE photon"
   ]
  },
  {
   "cell_type": "markdown",
   "metadata": {},
   "source": [
    "## 单位制\n"
   ]
  },
  {
   "cell_type": "code",
   "execution_count": null,
   "metadata": {},
   "outputs": [],
   "source": []
  },
  {
   "cell_type": "code",
   "execution_count": null,
   "metadata": {},
   "outputs": [],
   "source": []
  }
 ],
 "metadata": {
  "kernelspec": {
   "display_name": "Python 3",
   "language": "python",
   "name": "python3"
  },
  "language_info": {
   "codemirror_mode": {
    "name": "ipython",
    "version": 3
   },
   "file_extension": ".py",
   "mimetype": "text/x-python",
   "name": "python",
   "nbconvert_exporter": "python",
   "pygments_lexer": "ipython3",
   "version": "3.7.0"
  }
 },
 "nbformat": 4,
 "nbformat_minor": 2
}
