{
 "cells": [
  {
   "cell_type": "markdown",
   "metadata": {},
   "source": [
    "# systemctl\n",
    "[(99+ 封私信 / 99 条消息) 如何解决win10 子系统用wsl安装ubuntu22.04不能用systemctl? - 知乎 (zhihu.com)](https://www.zhihu.com/question/535145130)\n",
    "\n",
    "[(99+ 封私信 / 99 条消息) 如何使用ssh登录WSL2？ - 知乎 (zhihu.com)](https://www.zhihu.com/question/439351137)\n",
    "1. 在win安装并开启SSH\n",
    "\n",
    "# Git ping不通\n",
    "[github.com连接超时 ping不通_192.30.255.112-CSDN博客](https://blog.csdn.net/harry_yaya/article/details/107484793)\n",
    "成功解决\n",
    "\n",
    "# Git push没反应，连不上\n",
    "[不用梯子，GitHub也能访问并提速_github host-CSDN博客](https://blog.csdn.net/langfeiyes/article/details/128487969)\n",
    "在打开Jamjams前打开WSL2，否则重启。https://blog.csdn.net/langfeiyes/article/details/128487969\n",
    "\n",
    "C:\\Windows\\System32\\drivers\\etc\n",
    "\n",
    "现实就是可能要频繁改变git的host\n",
    "退一下jamjams解决\n",
    "\n",
    "[【github加载不出来】github 加载不出来、打开网页乱码-获取GitHub官方CDN地址、修改系统Hosts文件 刷新缓存_github dns-CSDN博客](https://blog.csdn.net/qq_24990383/article/details/131217371?utm_medium=distribute.pc_relevant.none-task-blog-2~default~baidujs_baidulandingword~default-0-131217371-blog-134299038.235^v40^pc_relevant_anti_t3_base&spm=1001.2101.3001.4242.1&utm_relevant_index=3)\n",
    "看起来就是DNS污染，要频繁更改git的host方式。\n"
   ]
  }
 ],
 "metadata": {
  "language_info": {
   "name": "python"
  }
 },
 "nbformat": 4,
 "nbformat_minor": 2
}
