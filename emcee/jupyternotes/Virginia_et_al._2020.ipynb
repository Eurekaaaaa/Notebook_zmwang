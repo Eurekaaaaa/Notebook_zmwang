{
 "cells": [
  {
   "cell_type": "code",
   "execution_count": null,
   "metadata": {},
   "outputs": [],
   "source": [
    "# EMCEE sampling: (Torja et al. 2020)"
   ]
  },
  {
   "cell_type": "code",
   "execution_count": null,
   "metadata": {},
   "outputs": [],
   "source": [
    "# Afterglowpy: generate samples for posterior"
   ]
  },
  {
   "cell_type": "code",
   "execution_count": null,
   "metadata": {},
   "outputs": [],
   "source": [
    "# input: flux, obs_time, frequencies"
   ]
  },
  {
   "cell_type": "code",
   "execution_count": null,
   "metadata": {},
   "outputs": [],
   "source": [
    "# output: generate sample from posterior -> \n",
    "# view_angle, iso_kinetic_energy, opening_angle, CBM_density, electron_distribution_index, epsilon_e&b"
   ]
  },
  {
   "cell_type": "code",
   "execution_count": null,
   "metadata": {},
   "outputs": [],
   "source": [
    "# initial prior: best fit K20 (Ryan 2020)\n",
    "# assume log-uniform prior for E, n, epsilon_e, epsilon_b\n",
    "# assume uniform prior for theta_c, theta_w, p\n",
    "# prior distribution for theta_v is shown in (Abbott 2017)"
   ]
  },
  {
   "cell_type": "markdown",
   "metadata": {},
   "source": [
    "## TOPHAT\n",
    "energy of jet is cutoff at jet edge.  \n",
    "normally tophats are assumed to be viewed on-angle.  \n",
    "make some degrees of restrictions to cancel degeneracy.  \n",
    "results in an E_iso"
   ]
  },
  {
   "cell_type": "markdown",
   "metadata": {},
   "source": [
    "## Gaussian\n",
    "E_theta is now with distribution.(truncation angle)  \n",
    "do same restrictions on e and b.  "
   ]
  },
  {
   "cell_type": "markdown",
   "metadata": {},
   "source": [
    "## Gaussian with free Xi\n",
    "normally assumed Xi to be 1, which is participation 100%.  \n",
    "now allowed Xi to vary as free parameter.  \n",
    "although total energy being very high, afterglow is diffuse thus not raising concern on opacity.  \n"
   ]
  }
 ],
 "metadata": {
  "kernelspec": {
   "display_name": "Python 3",
   "language": "python",
   "name": "python3"
  },
  "language_info": {
   "codemirror_mode": {
    "name": "ipython",
    "version": 3
   },
   "file_extension": ".py",
   "mimetype": "text/x-python",
   "name": "python",
   "nbconvert_exporter": "python",
   "pygments_lexer": "ipython3",
   "version": "3.8.3"
  }
 },
 "nbformat": 4,
 "nbformat_minor": 4
}
