{
 "cells": [
  {
   "cell_type": "markdown",
   "metadata": {},
   "source": [
    "## Models\n",
    "### jet and cocoon\n",
    "semi-analytically treated structure profiles.  \n",
    "Rule out universal jet strucutre. (Troja et al. 2017)  \n",
    "\n",
    "Gaussian structured jet: \n",
    "- 能量随角度分布 E(θ)\n",
    "- jet spreading are approximated following the semianalytical model from Van Eerten, Zhang & MacFadyen (2010),\n",
    "- Gaussian jet implemented as a series of concentric top-hat jets.\n",
    "\n",
    "Syn: \n",
    "- We estimate the emission of the ejecta using a synchrotron model (Sari, Piran & Narayan 1998).\n",
    "\n",
    "区分cocoon和jet的关键在于上升和下降的slope以及peak time.(break前后)   \n",
    "给出了jet和cocoon的peak time与参数的关系.  \n",
    "Cocoon and jet models differ in their expected post-peak downturn slopes.  \n",
    "\n",
    "### Bayesian model fit\n",
    "MCMC.  \n",
    "data from synthetic detections generated from our semianalytical cocoon and jet models.  \n",
    "在特定距离上，off-axis的jet可以被8个参数完整描述  \n",
    "cocoon是九个参数.  \n",
    "\n",
    "generate posteior using:  \n",
    "- affine-invariant ensemble MCMC sampler implemented in the EMCEE package (Goodman & Weare 2010; Foreman-Mackey et al. 2013).\n",
    "- walker初始位置在posterior的最大值附近，由trial run得到\n",
    "- 300个walker，128000步。burn-in 3600步。得到posterior\n",
    "- 给每一个参数指定独立的prior，一些uniform，一些log_uniform\n",
    "- randomly oriented souces给出了theta_v 的prior限制\n",
    "- 参数可以在非常宽的限制内游走\n",
    "- theta_v上限由LIGO 95%置信区间限制\n",
    "- LIGO给出了inclination，加入一个weighting factor到prior上。让MCMC在合适的theta_v附近充分采样\n",
    "\n",
    "## Results\n",
    "our models of Gaussian jet and cocoon\n",
    "with energy injection provide equally good fits to the current data\n",
    "set, and are basically indistinguishable until the peak time.  \n",
    "### Bayesian analysis results\n",
    "Table2给出了9个参数的MCMC结果，中位数+对称68百分位数.  \n",
    "以及online corner plot.  \n"
   ]
  }
 ],
 "metadata": {
  "kernelspec": {
   "display_name": "Python 3",
   "language": "python",
   "name": "python3"
  },
  "language_info": {
   "codemirror_mode": {
    "name": "ipython",
    "version": 3
   },
   "file_extension": ".py",
   "mimetype": "text/x-python",
   "name": "python",
   "nbconvert_exporter": "python",
   "pygments_lexer": "ipython3",
   "version": "3.8.3"
  }
 },
 "nbformat": 4,
 "nbformat_minor": 4
}
